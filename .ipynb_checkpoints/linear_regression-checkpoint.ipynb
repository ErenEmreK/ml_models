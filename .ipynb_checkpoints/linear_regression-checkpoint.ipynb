{
 "cells": [
  {
   "cell_type": "code",
   "execution_count": null,
   "id": "93f30cdd-5d83-4aac-a16a-7fd34f47dc53",
   "metadata": {},
   "outputs": [],
   "source": [
    "import numpy as np\n",
    "\n",
    "class LinearRegression:\n",
    "    def __init__(self, learning_rate=0.1):\n",
    "        self.learning_rate = learning_rate\n",
    "\n",
    "    \n",
    "    def initialize_parameters(feature_count):\n",
    "        #we initialize weights and bias randomly\n",
    "        weights = np.random.randn(feature_count)\n",
    "        bias = np.random.randn()\n",
    "        \n",
    "        return weights, bias\n",
    "\n",
    "    def forward_propagation(X, weights, bias):\n",
    "        #linear regression function\n",
    "        return np.dot(data, weights) + bias\n",
    "\n",
    "    def loss(predicted_labels, true_labels):\n",
    "        #calculate loss with mean squared error\n",
    "        return np.mean((predicted_labels - true_labels) ** 2)\n",
    "\n",
    "    def backpropagation():\n",
    "        gradients\n",
    "\n",
    "    \n",
    "    \n",
    "\n"
   ]
  }
 ],
 "metadata": {
  "kernelspec": {
   "display_name": "Python 3 (ipykernel)",
   "language": "python",
   "name": "python3"
  },
  "language_info": {
   "codemirror_mode": {
    "name": "ipython",
    "version": 3
   },
   "file_extension": ".py",
   "mimetype": "text/x-python",
   "name": "python",
   "nbconvert_exporter": "python",
   "pygments_lexer": "ipython3",
   "version": "3.11.8"
  }
 },
 "nbformat": 4,
 "nbformat_minor": 5
}
