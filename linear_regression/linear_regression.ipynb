{
 "cells": [
  {
   "cell_type": "code",
   "execution_count": null,
   "id": "93f30cdd-5d83-4aac-a16a-7fd34f47dc53",
   "metadata": {},
   "outputs": [],
   "source": [
    "import numpy as np\n",
    "\n",
    "class LinearRegression:\n",
    "    def __init__(self, learning_rate=0.1, epochs=10):\n",
    "        self.learning_rate = learning_rate\n",
    "        self.epochs = epochs\n",
    "    \n",
    "    def initialize_parameters(self, feature_count):\n",
    "        #we initialize weights and bias randomly\n",
    "        weights = np.random.randn(feature_count)\n",
    "        bias = np.random.randn()\n",
    "        \n",
    "        return weights, bias\n",
    "\n",
    "    def forward_propagation(seif, X, weights, bias):\n",
    "        #linear regression function\n",
    "        return np.dot(X, weights) + bias\n",
    "\n",
    "    def loss(self, predicted_labels, true_labels):\n",
    "        #calculate loss with mean squared error\n",
    "        return np.mean((predicted_labels - true_labels) ** 2)\n",
    "\n",
    "    def backpropagation(self, X, predicted_labels, true_labels):\n",
    "        #gradients w.r.t predictions\n",
    "        d_loss_prediction = predicted_labels - true_labels\n",
    "\n",
    "        #since activation func not exists in linear reg.\n",
    "        #derivative of weighted sum w.r.t itself will be 1\n",
    "        d_loss_z = d_loss_prediction * 1\n",
    "\n",
    "        #gradients of loss w.r.t weights and bias using chain rule\n",
    "        d_weights = np.dot(X.T, d_loss_z) / len(true_labels)\n",
    "        d_bias = np.mean(d_loss_z)\n",
    "        \n",
    "        return d_weights, d_bias\n",
    "    \n",
    "    def update_parameters(self, weights, bias, dw, db, learning_rate):\n",
    "        #update weight and bias regarding learning rate and gradients\n",
    "        weigths -= learning_rate * dw\n",
    "        bias -= learning_rate * db\n",
    "\n",
    "        return weights, bias\n",
    "\n",
    "    def train(X_train, y_train, epochs, learning_rate):\n",
    "        weights, bias = self.initialize_parameters(len(X_train))\n",
    "        \n",
    "\n"
   ]
  }
 ],
 "metadata": {
  "kernelspec": {
   "display_name": "Python 3 (ipykernel)",
   "language": "python",
   "name": "python3"
  },
  "language_info": {
   "codemirror_mode": {
    "name": "ipython",
    "version": 3
   },
   "file_extension": ".py",
   "mimetype": "text/x-python",
   "name": "python",
   "nbconvert_exporter": "python",
   "pygments_lexer": "ipython3",
   "version": "3.11.8"
  }
 },
 "nbformat": 4,
 "nbformat_minor": 5
}
